{
  "nbformat": 4,
  "nbformat_minor": 0,
  "metadata": {
    "kernelspec": {
      "display_name": "Python 3",
      "language": "python",
      "name": "python3"
    },
    "language_info": {
      "codemirror_mode": {
        "name": "ipython",
        "version": 3
      },
      "file_extension": ".py",
      "mimetype": "text/x-python",
      "name": "python",
      "nbconvert_exporter": "python",
      "pygments_lexer": "ipython3",
      "version": "3.7.6"
    },
    "colab": {
      "name": "main.ipynb",
      "provenance": [],
      "collapsed_sections": []
    }
  },
  "cells": [
    {
      "cell_type": "code",
      "metadata": {
        "id": "Bi9GQJxl6VIu",
        "colab_type": "code",
        "outputId": "1ea6ac00-1bf5-454d-e395-1abc9fbbd7e0",
        "colab": {
          "base_uri": "https://localhost:8080/",
          "height": 54
        }
      },
      "source": [
        "from google.colab import drive\n",
        "drive.mount('/content/drive')"
      ],
      "execution_count": 13,
      "outputs": [
        {
          "output_type": "stream",
          "text": [
            "Drive already mounted at /content/drive; to attempt to forcibly remount, call drive.mount(\"/content/drive\", force_remount=True).\n"
          ],
          "name": "stdout"
        }
      ]
    },
    {
      "cell_type": "markdown",
      "metadata": {
        "id": "kUXXMezwzhNR",
        "colab_type": "text"
      },
      "source": [
        "# List Comprehensions Lab\n",
        "\n",
        "Complete the following set of exercises to solidify your knowledge of list comprehensions."
      ]
    },
    {
      "cell_type": "code",
      "metadata": {
        "id": "PZ8azLU3zhNV",
        "colab_type": "code",
        "colab": {}
      },
      "source": [
        "import os\n",
        "import numpy as np\n",
        "import pandas as pd"
      ],
      "execution_count": 0,
      "outputs": []
    },
    {
      "cell_type": "markdown",
      "metadata": {
        "id": "u9UQ6ZhhzhNa",
        "colab_type": "text"
      },
      "source": [
        "### 1. Use a list comprehension to create and print a list of consecutive integers starting with 1 and ending with 50."
      ]
    },
    {
      "cell_type": "code",
      "metadata": {
        "id": "-SH4fykazhNd",
        "colab_type": "code",
        "outputId": "fed8a162-d7e3-4442-9010-6ce337547999",
        "colab": {
          "base_uri": "https://localhost:8080/",
          "height": 54
        }
      },
      "source": [
        "consecutive = [i for i in range(1,51)]\n",
        "print(consecutive)"
      ],
      "execution_count": 15,
      "outputs": [
        {
          "output_type": "stream",
          "text": [
            "[1, 2, 3, 4, 5, 6, 7, 8, 9, 10, 11, 12, 13, 14, 15, 16, 17, 18, 19, 20, 21, 22, 23, 24, 25, 26, 27, 28, 29, 30, 31, 32, 33, 34, 35, 36, 37, 38, 39, 40, 41, 42, 43, 44, 45, 46, 47, 48, 49, 50]\n"
          ],
          "name": "stdout"
        }
      ]
    },
    {
      "cell_type": "markdown",
      "metadata": {
        "id": "5UMki_jwzhNj",
        "colab_type": "text"
      },
      "source": [
        "### 2. Use a list comprehension to create and print a list of even numbers starting with 2 and ending with 200."
      ]
    },
    {
      "cell_type": "code",
      "metadata": {
        "id": "5B7RKezSzhNk",
        "colab_type": "code",
        "outputId": "b0de8bee-9063-41e9-b853-57c0e2c5febb",
        "colab": {
          "base_uri": "https://localhost:8080/",
          "height": 54
        }
      },
      "source": [
        "even_nums = [i for i in range(2,201) if i%2 == 0]\n",
        "print(even_nums)"
      ],
      "execution_count": 16,
      "outputs": [
        {
          "output_type": "stream",
          "text": [
            "[2, 4, 6, 8, 10, 12, 14, 16, 18, 20, 22, 24, 26, 28, 30, 32, 34, 36, 38, 40, 42, 44, 46, 48, 50, 52, 54, 56, 58, 60, 62, 64, 66, 68, 70, 72, 74, 76, 78, 80, 82, 84, 86, 88, 90, 92, 94, 96, 98, 100, 102, 104, 106, 108, 110, 112, 114, 116, 118, 120, 122, 124, 126, 128, 130, 132, 134, 136, 138, 140, 142, 144, 146, 148, 150, 152, 154, 156, 158, 160, 162, 164, 166, 168, 170, 172, 174, 176, 178, 180, 182, 184, 186, 188, 190, 192, 194, 196, 198, 200]\n"
          ],
          "name": "stdout"
        }
      ]
    },
    {
      "cell_type": "markdown",
      "metadata": {
        "id": "ki_7kJc4zhNo",
        "colab_type": "text"
      },
      "source": [
        "### 3. Use a list comprehension to create and print a list containing all elements of the 10 x 4 Numpy array below."
      ]
    },
    {
      "cell_type": "code",
      "metadata": {
        "id": "EOb-0jcazhNq",
        "colab_type": "code",
        "colab": {}
      },
      "source": [
        "a = np.array([[0.84062117, 0.48006452, 0.7876326 , 0.77109654],\n",
        "       [0.44409793, 0.09014516, 0.81835917, 0.87645456],\n",
        "       [0.7066597 , 0.09610873, 0.41247947, 0.57433389],\n",
        "       [0.29960807, 0.42315023, 0.34452557, 0.4751035 ],\n",
        "       [0.17003563, 0.46843998, 0.92796258, 0.69814654],\n",
        "       [0.41290051, 0.19561071, 0.16284783, 0.97016248],\n",
        "       [0.71725408, 0.87702738, 0.31244595, 0.76615487],\n",
        "       [0.20754036, 0.57871812, 0.07214068, 0.40356048],\n",
        "       [0.12149553, 0.53222417, 0.9976855 , 0.12536346],\n",
        "       [0.80930099, 0.50962849, 0.94555126, 0.33364763]])"
      ],
      "execution_count": 0,
      "outputs": []
    },
    {
      "cell_type": "code",
      "metadata": {
        "id": "_HnDlZoYzzZa",
        "colab_type": "code",
        "outputId": "ded02658-a286-45a0-925a-d7e9eb7c25f5",
        "colab": {
          "base_uri": "https://localhost:8080/",
          "height": 727
        }
      },
      "source": [
        "array_loop = [element for group in a for element in group ]\n",
        "array_loop"
      ],
      "execution_count": 18,
      "outputs": [
        {
          "output_type": "execute_result",
          "data": {
            "text/plain": [
              "[0.84062117,\n",
              " 0.48006452,\n",
              " 0.7876326,\n",
              " 0.77109654,\n",
              " 0.44409793,\n",
              " 0.09014516,\n",
              " 0.81835917,\n",
              " 0.87645456,\n",
              " 0.7066597,\n",
              " 0.09610873,\n",
              " 0.41247947,\n",
              " 0.57433389,\n",
              " 0.29960807,\n",
              " 0.42315023,\n",
              " 0.34452557,\n",
              " 0.4751035,\n",
              " 0.17003563,\n",
              " 0.46843998,\n",
              " 0.92796258,\n",
              " 0.69814654,\n",
              " 0.41290051,\n",
              " 0.19561071,\n",
              " 0.16284783,\n",
              " 0.97016248,\n",
              " 0.71725408,\n",
              " 0.87702738,\n",
              " 0.31244595,\n",
              " 0.76615487,\n",
              " 0.20754036,\n",
              " 0.57871812,\n",
              " 0.07214068,\n",
              " 0.40356048,\n",
              " 0.12149553,\n",
              " 0.53222417,\n",
              " 0.9976855,\n",
              " 0.12536346,\n",
              " 0.80930099,\n",
              " 0.50962849,\n",
              " 0.94555126,\n",
              " 0.33364763]"
            ]
          },
          "metadata": {
            "tags": []
          },
          "execution_count": 18
        }
      ]
    },
    {
      "cell_type": "markdown",
      "metadata": {
        "id": "dVInSIg3zhNv",
        "colab_type": "text"
      },
      "source": [
        "### 4. Add a condition to the list comprehension above so that only values greater than or equal to 0.5 are printed."
      ]
    },
    {
      "cell_type": "code",
      "metadata": {
        "id": "MEaOrHVKzhNx",
        "colab_type": "code",
        "outputId": "9147728e-9688-47b3-9c28-435a2caf886c",
        "colab": {
          "base_uri": "https://localhost:8080/",
          "height": 354
        }
      },
      "source": [
        "array_loop = [element for group in a for element in group if element >= 0.5]\n",
        "array_loop"
      ],
      "execution_count": 19,
      "outputs": [
        {
          "output_type": "execute_result",
          "data": {
            "text/plain": [
              "[0.84062117,\n",
              " 0.7876326,\n",
              " 0.77109654,\n",
              " 0.81835917,\n",
              " 0.87645456,\n",
              " 0.7066597,\n",
              " 0.57433389,\n",
              " 0.92796258,\n",
              " 0.69814654,\n",
              " 0.97016248,\n",
              " 0.71725408,\n",
              " 0.87702738,\n",
              " 0.76615487,\n",
              " 0.57871812,\n",
              " 0.53222417,\n",
              " 0.9976855,\n",
              " 0.80930099,\n",
              " 0.50962849,\n",
              " 0.94555126]"
            ]
          },
          "metadata": {
            "tags": []
          },
          "execution_count": 19
        }
      ]
    },
    {
      "cell_type": "markdown",
      "metadata": {
        "id": "Cn1li7GyzhN1",
        "colab_type": "text"
      },
      "source": [
        "### 5. Use a list comprehension to create and print a list containing all elements of the 5 x 2 x 3 Numpy array below."
      ]
    },
    {
      "cell_type": "code",
      "metadata": {
        "id": "9D8tNxq4zhN2",
        "colab_type": "code",
        "colab": {}
      },
      "source": [
        "b = np.array([[[0.55867166, 0.06210792, 0.08147297],\n",
        "        [0.82579068, 0.91512478, 0.06833034]],\n",
        "\n",
        "       [[0.05440634, 0.65857693, 0.30296619],\n",
        "        [0.06769833, 0.96031863, 0.51293743]],\n",
        "\n",
        "       [[0.09143215, 0.71893382, 0.45850679],\n",
        "        [0.58256464, 0.59005654, 0.56266457]],\n",
        "\n",
        "       [[0.71600294, 0.87392666, 0.11434044],\n",
        "        [0.8694668 , 0.65669313, 0.10708681]],\n",
        "\n",
        "       [[0.07529684, 0.46470767, 0.47984544],\n",
        "        [0.65368638, 0.14901286, 0.23760688]]])"
      ],
      "execution_count": 0,
      "outputs": []
    },
    {
      "cell_type": "code",
      "metadata": {
        "id": "e9arvpO2zhN5",
        "colab_type": "code",
        "outputId": "be1d95c4-87ec-4466-cab1-426f8d871f53",
        "colab": {
          "base_uri": "https://localhost:8080/",
          "height": 550
        }
      },
      "source": [
        "weird_matrix = [element for big_group in b for mini_group in big_group for element in mini_group]\n",
        "weird_matrix"
      ],
      "execution_count": 21,
      "outputs": [
        {
          "output_type": "execute_result",
          "data": {
            "text/plain": [
              "[0.55867166,\n",
              " 0.06210792,\n",
              " 0.08147297,\n",
              " 0.82579068,\n",
              " 0.91512478,\n",
              " 0.06833034,\n",
              " 0.05440634,\n",
              " 0.65857693,\n",
              " 0.30296619,\n",
              " 0.06769833,\n",
              " 0.96031863,\n",
              " 0.51293743,\n",
              " 0.09143215,\n",
              " 0.71893382,\n",
              " 0.45850679,\n",
              " 0.58256464,\n",
              " 0.59005654,\n",
              " 0.56266457,\n",
              " 0.71600294,\n",
              " 0.87392666,\n",
              " 0.11434044,\n",
              " 0.8694668,\n",
              " 0.65669313,\n",
              " 0.10708681,\n",
              " 0.07529684,\n",
              " 0.46470767,\n",
              " 0.47984544,\n",
              " 0.65368638,\n",
              " 0.14901286,\n",
              " 0.23760688]"
            ]
          },
          "metadata": {
            "tags": []
          },
          "execution_count": 21
        }
      ]
    },
    {
      "cell_type": "markdown",
      "metadata": {
        "id": "1BgFQeoDzhN9",
        "colab_type": "text"
      },
      "source": [
        "### 6. Add a condition to the list comprehension above so that the last value in each subarray is printed, but only if it is less than or equal to 0.5."
      ]
    },
    {
      "cell_type": "code",
      "metadata": {
        "id": "oNYGVk7EzhN_",
        "colab_type": "code",
        "outputId": "5f043f2e-ef1d-4a24-9a6b-00ddbb4ee3f6",
        "colab": {
          "base_uri": "https://localhost:8080/",
          "height": 158
        }
      },
      "source": [
        "weird_matrix2 = [mini_group[-1] for big_group in b for mini_group in big_group if mini_group[-1]<= 0.5]\n",
        "weird_matrix2"
      ],
      "execution_count": 22,
      "outputs": [
        {
          "output_type": "execute_result",
          "data": {
            "text/plain": [
              "[0.08147297,\n",
              " 0.06833034,\n",
              " 0.30296619,\n",
              " 0.45850679,\n",
              " 0.11434044,\n",
              " 0.10708681,\n",
              " 0.47984544,\n",
              " 0.23760688]"
            ]
          },
          "metadata": {
            "tags": []
          },
          "execution_count": 22
        }
      ]
    },
    {
      "cell_type": "markdown",
      "metadata": {
        "id": "6eAf9iP0zhOH",
        "colab_type": "text"
      },
      "source": [
        "### 7. Use a list comprehension to select and print the names of all CSV files in the */data* directory."
      ]
    },
    {
      "cell_type": "code",
      "metadata": {
        "id": "4u9N92AszhOI",
        "colab_type": "code",
        "outputId": "c5f82e0c-716a-455d-d193-97f5e98b7867",
        "colab": {
          "base_uri": "https://localhost:8080/",
          "height": 194
        }
      },
      "source": [
        "file_list = [i for i in os.listdir(\"/content/week1_data\") if i.endswith('.csv')]\n",
        "file_list"
      ],
      "execution_count": 23,
      "outputs": [
        {
          "output_type": "execute_result",
          "data": {
            "text/plain": [
              "['sample_file_0.csv',\n",
              " 'sample_file_9.csv',\n",
              " 'sample_file_1.csv',\n",
              " 'sample_file_3.csv',\n",
              " 'sample_file_2.csv',\n",
              " 'sample_file_6.csv',\n",
              " 'sample_file_4.csv',\n",
              " 'sample_file_5.csv',\n",
              " 'sample_file_7.csv',\n",
              " 'sample_file_8.csv']"
            ]
          },
          "metadata": {
            "tags": []
          },
          "execution_count": 23
        }
      ]
    },
    {
      "cell_type": "markdown",
      "metadata": {
        "id": "u7YJci6zzhOL",
        "colab_type": "text"
      },
      "source": [
        "### 8. Use a list comprehension and the Pandas `read_csv` and `concat` methods to read all CSV files in the */data* directory and combine them into a single data frame. Display the top 10 rows of the resulting data frame."
      ]
    },
    {
      "cell_type": "code",
      "metadata": {
        "id": "r3kr7S7QzhOM",
        "colab_type": "code",
        "outputId": "cb297c26-f9ca-4f37-8397-2eb9e2cfd3ba",
        "colab": {
          "base_uri": "https://localhost:8080/",
          "height": 367
        }
      },
      "source": [
        "\n",
        "data_sets = [pd.read_csv(os.path.join('/content/week1_data', i)) for i in file_list]\n",
        "single_data = pd.concat(data_sets, axis=0)\n",
        "single_data.head(10)\n"
      ],
      "execution_count": 24,
      "outputs": [
        {
          "output_type": "execute_result",
          "data": {
            "text/html": [
              "<div>\n",
              "<style scoped>\n",
              "    .dataframe tbody tr th:only-of-type {\n",
              "        vertical-align: middle;\n",
              "    }\n",
              "\n",
              "    .dataframe tbody tr th {\n",
              "        vertical-align: top;\n",
              "    }\n",
              "\n",
              "    .dataframe thead th {\n",
              "        text-align: right;\n",
              "    }\n",
              "</style>\n",
              "<table border=\"1\" class=\"dataframe\">\n",
              "  <thead>\n",
              "    <tr style=\"text-align: right;\">\n",
              "      <th></th>\n",
              "      <th>0</th>\n",
              "      <th>1</th>\n",
              "      <th>2</th>\n",
              "      <th>3</th>\n",
              "      <th>4</th>\n",
              "      <th>5</th>\n",
              "      <th>6</th>\n",
              "      <th>7</th>\n",
              "      <th>8</th>\n",
              "      <th>9</th>\n",
              "      <th>10</th>\n",
              "      <th>11</th>\n",
              "      <th>12</th>\n",
              "      <th>13</th>\n",
              "      <th>14</th>\n",
              "      <th>15</th>\n",
              "      <th>16</th>\n",
              "      <th>17</th>\n",
              "      <th>18</th>\n",
              "      <th>19</th>\n",
              "    </tr>\n",
              "  </thead>\n",
              "  <tbody>\n",
              "    <tr>\n",
              "      <th>0</th>\n",
              "      <td>0.734751</td>\n",
              "      <td>0.195362</td>\n",
              "      <td>0.734309</td>\n",
              "      <td>0.598184</td>\n",
              "      <td>0.763433</td>\n",
              "      <td>0.263434</td>\n",
              "      <td>0.868066</td>\n",
              "      <td>0.058092</td>\n",
              "      <td>0.753502</td>\n",
              "      <td>0.587513</td>\n",
              "      <td>0.311608</td>\n",
              "      <td>0.178356</td>\n",
              "      <td>0.182922</td>\n",
              "      <td>0.147631</td>\n",
              "      <td>0.391188</td>\n",
              "      <td>0.816049</td>\n",
              "      <td>0.749068</td>\n",
              "      <td>0.293260</td>\n",
              "      <td>0.937828</td>\n",
              "      <td>0.880858</td>\n",
              "    </tr>\n",
              "    <tr>\n",
              "      <th>1</th>\n",
              "      <td>0.772607</td>\n",
              "      <td>0.445391</td>\n",
              "      <td>0.249642</td>\n",
              "      <td>0.787922</td>\n",
              "      <td>0.598583</td>\n",
              "      <td>0.827238</td>\n",
              "      <td>0.624126</td>\n",
              "      <td>0.601524</td>\n",
              "      <td>0.688753</td>\n",
              "      <td>0.338870</td>\n",
              "      <td>0.081595</td>\n",
              "      <td>0.471474</td>\n",
              "      <td>0.267443</td>\n",
              "      <td>0.453351</td>\n",
              "      <td>0.800716</td>\n",
              "      <td>0.045749</td>\n",
              "      <td>0.683793</td>\n",
              "      <td>0.389789</td>\n",
              "      <td>0.016787</td>\n",
              "      <td>0.503695</td>\n",
              "    </tr>\n",
              "    <tr>\n",
              "      <th>2</th>\n",
              "      <td>0.226428</td>\n",
              "      <td>0.268764</td>\n",
              "      <td>0.694262</td>\n",
              "      <td>0.622335</td>\n",
              "      <td>0.063843</td>\n",
              "      <td>0.122683</td>\n",
              "      <td>0.815625</td>\n",
              "      <td>0.584542</td>\n",
              "      <td>0.032594</td>\n",
              "      <td>0.589775</td>\n",
              "      <td>0.764350</td>\n",
              "      <td>0.650973</td>\n",
              "      <td>0.565705</td>\n",
              "      <td>0.691784</td>\n",
              "      <td>0.265223</td>\n",
              "      <td>0.739031</td>\n",
              "      <td>0.560394</td>\n",
              "      <td>0.334802</td>\n",
              "      <td>0.517694</td>\n",
              "      <td>0.646110</td>\n",
              "    </tr>\n",
              "    <tr>\n",
              "      <th>3</th>\n",
              "      <td>0.362748</td>\n",
              "      <td>0.495430</td>\n",
              "      <td>0.113876</td>\n",
              "      <td>0.594149</td>\n",
              "      <td>0.612522</td>\n",
              "      <td>0.625204</td>\n",
              "      <td>0.864050</td>\n",
              "      <td>0.260279</td>\n",
              "      <td>0.528873</td>\n",
              "      <td>0.168043</td>\n",
              "      <td>0.715929</td>\n",
              "      <td>0.677014</td>\n",
              "      <td>0.175735</td>\n",
              "      <td>0.632370</td>\n",
              "      <td>0.926715</td>\n",
              "      <td>0.085675</td>\n",
              "      <td>0.120525</td>\n",
              "      <td>0.141746</td>\n",
              "      <td>0.771144</td>\n",
              "      <td>0.489660</td>\n",
              "    </tr>\n",
              "    <tr>\n",
              "      <th>4</th>\n",
              "      <td>0.033415</td>\n",
              "      <td>0.340433</td>\n",
              "      <td>0.464971</td>\n",
              "      <td>0.363737</td>\n",
              "      <td>0.025815</td>\n",
              "      <td>0.434129</td>\n",
              "      <td>0.415163</td>\n",
              "      <td>0.892210</td>\n",
              "      <td>0.381701</td>\n",
              "      <td>0.415264</td>\n",
              "      <td>0.790801</td>\n",
              "      <td>0.696930</td>\n",
              "      <td>0.819751</td>\n",
              "      <td>0.944029</td>\n",
              "      <td>0.869965</td>\n",
              "      <td>0.041723</td>\n",
              "      <td>0.819140</td>\n",
              "      <td>0.676051</td>\n",
              "      <td>0.109349</td>\n",
              "      <td>0.872947</td>\n",
              "    </tr>\n",
              "    <tr>\n",
              "      <th>0</th>\n",
              "      <td>0.215190</td>\n",
              "      <td>0.155352</td>\n",
              "      <td>0.160848</td>\n",
              "      <td>0.807736</td>\n",
              "      <td>0.363587</td>\n",
              "      <td>0.899832</td>\n",
              "      <td>0.146754</td>\n",
              "      <td>0.094802</td>\n",
              "      <td>0.705133</td>\n",
              "      <td>0.882762</td>\n",
              "      <td>0.773320</td>\n",
              "      <td>0.687745</td>\n",
              "      <td>0.016789</td>\n",
              "      <td>0.340725</td>\n",
              "      <td>0.984182</td>\n",
              "      <td>0.985461</td>\n",
              "      <td>0.412044</td>\n",
              "      <td>0.867894</td>\n",
              "      <td>0.113432</td>\n",
              "      <td>0.349845</td>\n",
              "    </tr>\n",
              "    <tr>\n",
              "      <th>1</th>\n",
              "      <td>0.895544</td>\n",
              "      <td>0.955196</td>\n",
              "      <td>0.089925</td>\n",
              "      <td>0.827555</td>\n",
              "      <td>0.089071</td>\n",
              "      <td>0.642883</td>\n",
              "      <td>0.996052</td>\n",
              "      <td>0.879020</td>\n",
              "      <td>0.421837</td>\n",
              "      <td>0.412141</td>\n",
              "      <td>0.858513</td>\n",
              "      <td>0.217091</td>\n",
              "      <td>0.176157</td>\n",
              "      <td>0.551236</td>\n",
              "      <td>0.834378</td>\n",
              "      <td>0.419535</td>\n",
              "      <td>0.041431</td>\n",
              "      <td>0.602258</td>\n",
              "      <td>0.984628</td>\n",
              "      <td>0.516899</td>\n",
              "    </tr>\n",
              "    <tr>\n",
              "      <th>2</th>\n",
              "      <td>0.413752</td>\n",
              "      <td>0.693052</td>\n",
              "      <td>0.789796</td>\n",
              "      <td>0.929164</td>\n",
              "      <td>0.536191</td>\n",
              "      <td>0.439769</td>\n",
              "      <td>0.773474</td>\n",
              "      <td>0.982074</td>\n",
              "      <td>0.876955</td>\n",
              "      <td>0.633154</td>\n",
              "      <td>0.279005</td>\n",
              "      <td>0.483317</td>\n",
              "      <td>0.908288</td>\n",
              "      <td>0.756172</td>\n",
              "      <td>0.462130</td>\n",
              "      <td>0.289892</td>\n",
              "      <td>0.145233</td>\n",
              "      <td>0.076819</td>\n",
              "      <td>0.797836</td>\n",
              "      <td>0.197592</td>\n",
              "    </tr>\n",
              "    <tr>\n",
              "      <th>3</th>\n",
              "      <td>0.728001</td>\n",
              "      <td>0.348156</td>\n",
              "      <td>0.935787</td>\n",
              "      <td>0.851163</td>\n",
              "      <td>0.444573</td>\n",
              "      <td>0.715080</td>\n",
              "      <td>0.988408</td>\n",
              "      <td>0.210332</td>\n",
              "      <td>0.732133</td>\n",
              "      <td>0.892383</td>\n",
              "      <td>0.216893</td>\n",
              "      <td>0.367595</td>\n",
              "      <td>0.846208</td>\n",
              "      <td>0.240111</td>\n",
              "      <td>0.471880</td>\n",
              "      <td>0.399721</td>\n",
              "      <td>0.758196</td>\n",
              "      <td>0.665568</td>\n",
              "      <td>0.931542</td>\n",
              "      <td>0.448124</td>\n",
              "    </tr>\n",
              "    <tr>\n",
              "      <th>4</th>\n",
              "      <td>0.134942</td>\n",
              "      <td>0.875931</td>\n",
              "      <td>0.273505</td>\n",
              "      <td>0.207588</td>\n",
              "      <td>0.080696</td>\n",
              "      <td>0.717396</td>\n",
              "      <td>0.033930</td>\n",
              "      <td>0.646837</td>\n",
              "      <td>0.888722</td>\n",
              "      <td>0.922742</td>\n",
              "      <td>0.176593</td>\n",
              "      <td>0.861333</td>\n",
              "      <td>0.389451</td>\n",
              "      <td>0.695244</td>\n",
              "      <td>0.129955</td>\n",
              "      <td>0.364114</td>\n",
              "      <td>0.428224</td>\n",
              "      <td>0.365442</td>\n",
              "      <td>0.847818</td>\n",
              "      <td>0.588319</td>\n",
              "    </tr>\n",
              "  </tbody>\n",
              "</table>\n",
              "</div>"
            ],
            "text/plain": [
              "          0         1         2  ...        17        18        19\n",
              "0  0.734751  0.195362  0.734309  ...  0.293260  0.937828  0.880858\n",
              "1  0.772607  0.445391  0.249642  ...  0.389789  0.016787  0.503695\n",
              "2  0.226428  0.268764  0.694262  ...  0.334802  0.517694  0.646110\n",
              "3  0.362748  0.495430  0.113876  ...  0.141746  0.771144  0.489660\n",
              "4  0.033415  0.340433  0.464971  ...  0.676051  0.109349  0.872947\n",
              "0  0.215190  0.155352  0.160848  ...  0.867894  0.113432  0.349845\n",
              "1  0.895544  0.955196  0.089925  ...  0.602258  0.984628  0.516899\n",
              "2  0.413752  0.693052  0.789796  ...  0.076819  0.797836  0.197592\n",
              "3  0.728001  0.348156  0.935787  ...  0.665568  0.931542  0.448124\n",
              "4  0.134942  0.875931  0.273505  ...  0.365442  0.847818  0.588319\n",
              "\n",
              "[10 rows x 20 columns]"
            ]
          },
          "metadata": {
            "tags": []
          },
          "execution_count": 24
        }
      ]
    },
    {
      "cell_type": "markdown",
      "metadata": {
        "id": "noSk40axzhOP",
        "colab_type": "text"
      },
      "source": [
        "### 9. Use a list comprehension to select and print the column numbers for columns from the data set whose median is less than 0.48."
      ]
    },
    {
      "cell_type": "code",
      "metadata": {
        "id": "Cwb-touHzhOQ",
        "colab_type": "code",
        "colab": {
          "base_uri": "https://localhost:8080/",
          "height": 34
        },
        "outputId": "4b2b4059-cf16-49db-84fc-0f987866ac31"
      },
      "source": [
        "median_lst = [col for col in single_data if single_data[col].median() < 0.48]\n",
        "median_lst"
      ],
      "execution_count": 25,
      "outputs": [
        {
          "output_type": "execute_result",
          "data": {
            "text/plain": [
              "['2', '9', '12', '14', '17']"
            ]
          },
          "metadata": {
            "tags": []
          },
          "execution_count": 25
        }
      ]
    },
    {
      "cell_type": "markdown",
      "metadata": {
        "id": "p6nbuKuuzhOT",
        "colab_type": "text"
      },
      "source": [
        "### 10. Use a list comprehension to add a new column (20) to the data frame whose values are the values in column 19 minus 0.1. Display the top 10 rows of the resulting data frame."
      ]
    },
    {
      "cell_type": "code",
      "metadata": {
        "id": "5t0DalNSzhOU",
        "colab_type": "code",
        "colab": {
          "base_uri": "https://localhost:8080/",
          "height": 217
        },
        "outputId": "45b0eb90-caba-49b2-d23b-55b2b31940d0"
      },
      "source": [
        "# QUES Havn't used list comprehension 🤔\n",
        "single_data['20'] =  single_data['19'] - 0.1\n",
        "single_data.head()"
      ],
      "execution_count": 26,
      "outputs": [
        {
          "output_type": "execute_result",
          "data": {
            "text/html": [
              "<div>\n",
              "<style scoped>\n",
              "    .dataframe tbody tr th:only-of-type {\n",
              "        vertical-align: middle;\n",
              "    }\n",
              "\n",
              "    .dataframe tbody tr th {\n",
              "        vertical-align: top;\n",
              "    }\n",
              "\n",
              "    .dataframe thead th {\n",
              "        text-align: right;\n",
              "    }\n",
              "</style>\n",
              "<table border=\"1\" class=\"dataframe\">\n",
              "  <thead>\n",
              "    <tr style=\"text-align: right;\">\n",
              "      <th></th>\n",
              "      <th>0</th>\n",
              "      <th>1</th>\n",
              "      <th>2</th>\n",
              "      <th>3</th>\n",
              "      <th>4</th>\n",
              "      <th>5</th>\n",
              "      <th>6</th>\n",
              "      <th>7</th>\n",
              "      <th>8</th>\n",
              "      <th>9</th>\n",
              "      <th>10</th>\n",
              "      <th>11</th>\n",
              "      <th>12</th>\n",
              "      <th>13</th>\n",
              "      <th>14</th>\n",
              "      <th>15</th>\n",
              "      <th>16</th>\n",
              "      <th>17</th>\n",
              "      <th>18</th>\n",
              "      <th>19</th>\n",
              "      <th>20</th>\n",
              "    </tr>\n",
              "  </thead>\n",
              "  <tbody>\n",
              "    <tr>\n",
              "      <th>0</th>\n",
              "      <td>0.734751</td>\n",
              "      <td>0.195362</td>\n",
              "      <td>0.734309</td>\n",
              "      <td>0.598184</td>\n",
              "      <td>0.763433</td>\n",
              "      <td>0.263434</td>\n",
              "      <td>0.868066</td>\n",
              "      <td>0.058092</td>\n",
              "      <td>0.753502</td>\n",
              "      <td>0.587513</td>\n",
              "      <td>0.311608</td>\n",
              "      <td>0.178356</td>\n",
              "      <td>0.182922</td>\n",
              "      <td>0.147631</td>\n",
              "      <td>0.391188</td>\n",
              "      <td>0.816049</td>\n",
              "      <td>0.749068</td>\n",
              "      <td>0.293260</td>\n",
              "      <td>0.937828</td>\n",
              "      <td>0.880858</td>\n",
              "      <td>0.780858</td>\n",
              "    </tr>\n",
              "    <tr>\n",
              "      <th>1</th>\n",
              "      <td>0.772607</td>\n",
              "      <td>0.445391</td>\n",
              "      <td>0.249642</td>\n",
              "      <td>0.787922</td>\n",
              "      <td>0.598583</td>\n",
              "      <td>0.827238</td>\n",
              "      <td>0.624126</td>\n",
              "      <td>0.601524</td>\n",
              "      <td>0.688753</td>\n",
              "      <td>0.338870</td>\n",
              "      <td>0.081595</td>\n",
              "      <td>0.471474</td>\n",
              "      <td>0.267443</td>\n",
              "      <td>0.453351</td>\n",
              "      <td>0.800716</td>\n",
              "      <td>0.045749</td>\n",
              "      <td>0.683793</td>\n",
              "      <td>0.389789</td>\n",
              "      <td>0.016787</td>\n",
              "      <td>0.503695</td>\n",
              "      <td>0.403695</td>\n",
              "    </tr>\n",
              "    <tr>\n",
              "      <th>2</th>\n",
              "      <td>0.226428</td>\n",
              "      <td>0.268764</td>\n",
              "      <td>0.694262</td>\n",
              "      <td>0.622335</td>\n",
              "      <td>0.063843</td>\n",
              "      <td>0.122683</td>\n",
              "      <td>0.815625</td>\n",
              "      <td>0.584542</td>\n",
              "      <td>0.032594</td>\n",
              "      <td>0.589775</td>\n",
              "      <td>0.764350</td>\n",
              "      <td>0.650973</td>\n",
              "      <td>0.565705</td>\n",
              "      <td>0.691784</td>\n",
              "      <td>0.265223</td>\n",
              "      <td>0.739031</td>\n",
              "      <td>0.560394</td>\n",
              "      <td>0.334802</td>\n",
              "      <td>0.517694</td>\n",
              "      <td>0.646110</td>\n",
              "      <td>0.546110</td>\n",
              "    </tr>\n",
              "    <tr>\n",
              "      <th>3</th>\n",
              "      <td>0.362748</td>\n",
              "      <td>0.495430</td>\n",
              "      <td>0.113876</td>\n",
              "      <td>0.594149</td>\n",
              "      <td>0.612522</td>\n",
              "      <td>0.625204</td>\n",
              "      <td>0.864050</td>\n",
              "      <td>0.260279</td>\n",
              "      <td>0.528873</td>\n",
              "      <td>0.168043</td>\n",
              "      <td>0.715929</td>\n",
              "      <td>0.677014</td>\n",
              "      <td>0.175735</td>\n",
              "      <td>0.632370</td>\n",
              "      <td>0.926715</td>\n",
              "      <td>0.085675</td>\n",
              "      <td>0.120525</td>\n",
              "      <td>0.141746</td>\n",
              "      <td>0.771144</td>\n",
              "      <td>0.489660</td>\n",
              "      <td>0.389660</td>\n",
              "    </tr>\n",
              "    <tr>\n",
              "      <th>4</th>\n",
              "      <td>0.033415</td>\n",
              "      <td>0.340433</td>\n",
              "      <td>0.464971</td>\n",
              "      <td>0.363737</td>\n",
              "      <td>0.025815</td>\n",
              "      <td>0.434129</td>\n",
              "      <td>0.415163</td>\n",
              "      <td>0.892210</td>\n",
              "      <td>0.381701</td>\n",
              "      <td>0.415264</td>\n",
              "      <td>0.790801</td>\n",
              "      <td>0.696930</td>\n",
              "      <td>0.819751</td>\n",
              "      <td>0.944029</td>\n",
              "      <td>0.869965</td>\n",
              "      <td>0.041723</td>\n",
              "      <td>0.819140</td>\n",
              "      <td>0.676051</td>\n",
              "      <td>0.109349</td>\n",
              "      <td>0.872947</td>\n",
              "      <td>0.772947</td>\n",
              "    </tr>\n",
              "  </tbody>\n",
              "</table>\n",
              "</div>"
            ],
            "text/plain": [
              "          0         1         2  ...        18        19        20\n",
              "0  0.734751  0.195362  0.734309  ...  0.937828  0.880858  0.780858\n",
              "1  0.772607  0.445391  0.249642  ...  0.016787  0.503695  0.403695\n",
              "2  0.226428  0.268764  0.694262  ...  0.517694  0.646110  0.546110\n",
              "3  0.362748  0.495430  0.113876  ...  0.771144  0.489660  0.389660\n",
              "4  0.033415  0.340433  0.464971  ...  0.109349  0.872947  0.772947\n",
              "\n",
              "[5 rows x 21 columns]"
            ]
          },
          "metadata": {
            "tags": []
          },
          "execution_count": 26
        }
      ]
    },
    {
      "cell_type": "markdown",
      "metadata": {
        "id": "-sQ1kl8EzhOX",
        "colab_type": "text"
      },
      "source": [
        "### 11. Use a list comprehension to extract and print all values from the data set that are between 0.7 and 0.75."
      ]
    },
    {
      "cell_type": "code",
      "metadata": {
        "id": "vBK7H2cYzhOY",
        "colab_type": "code",
        "colab": {
          "base_uri": "https://localhost:8080/",
          "height": 976
        },
        "outputId": "b7a29e16-f293-405e-d7d6-febb3a4d62cd"
      },
      "source": [
        "extracted_values = [single_data.iloc[col,row] for col in range(single_data.shape[0]) for row in range(single_data.shape[1]) if single_data.iloc[col,row] <= 0.75 and single_data.iloc[col,row]>= 0.7]\n",
        "extracted_values\n",
        "\n",
        "\n",
        "\n",
        "\n"
      ],
      "execution_count": 91,
      "outputs": [
        {
          "output_type": "execute_result",
          "data": {
            "text/plain": [
              "[0.7347510852128797,\n",
              " 0.7343092314001137,\n",
              " 0.7490680818183477,\n",
              " 0.7390312927111312,\n",
              " 0.7159290265157912,\n",
              " 0.7051334608870933,\n",
              " 0.7280006345208285,\n",
              " 0.7150799992177622,\n",
              " 0.7321333453970806,\n",
              " 0.7173964318670598,\n",
              " 0.7356923324968598,\n",
              " 0.7357618655811269,\n",
              " 0.7306642125209889,\n",
              " 0.7045750112959754,\n",
              " 0.7033930409580709,\n",
              " 0.7013619954419494,\n",
              " 0.7396561066717461,\n",
              " 0.7025657075988269,\n",
              " 0.7298115760258881,\n",
              " 0.7294980584878026,\n",
              " 0.7215147068185102,\n",
              " 0.7130781095091867,\n",
              " 0.7393833032570581,\n",
              " 0.7258310816144985,\n",
              " 0.7383982036983279,\n",
              " 0.7178166705957928,\n",
              " 0.7088042362916818,\n",
              " 0.7374449181749492,\n",
              " 0.7264121114538001,\n",
              " 0.7133695725698419,\n",
              " 0.7476323136755818,\n",
              " 0.7268545088531969,\n",
              " 0.7111584953876777,\n",
              " 0.7008930873050235,\n",
              " 0.7209375615129192,\n",
              " 0.7303553716733908,\n",
              " 0.7274869207330491,\n",
              " 0.7358941798147411,\n",
              " 0.736029494090402,\n",
              " 0.7085098152301276,\n",
              " 0.7472962776291713,\n",
              " 0.7329024831531535,\n",
              " 0.7124169515124726,\n",
              " 0.71223975981198,\n",
              " 0.7365416322783028,\n",
              " 0.7133690799930356,\n",
              " 0.7078738356977186,\n",
              " 0.7032248108904495,\n",
              " 0.7196096371031628,\n",
              " 0.7244863338885654,\n",
              " 0.7321533684342264,\n",
              " 0.7376946446827494,\n",
              " 0.7132714209987683,\n",
              " 0.7023481768180954]"
            ]
          },
          "metadata": {
            "tags": []
          },
          "execution_count": 91
        }
      ]
    },
    {
      "cell_type": "code",
      "metadata": {
        "id": "SlgNJdMF7j8u",
        "colab_type": "code",
        "colab": {}
      },
      "source": [
        ""
      ],
      "execution_count": 0,
      "outputs": []
    }
  ]
}